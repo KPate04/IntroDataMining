{
 "cells": [
  {
   "cell_type": "code",
   "execution_count": null,
   "metadata": {},
   "outputs": [],
   "source": [
    "# Dataset: \n",
    "# @article{mao2019visual,\n",
    "#   title={Visual Arts Search on Mobile Devices},\n",
    "#   author={Mao, Hui and She, James and Cheung, Ming},\n",
    "#   journal={ACM Transactions on Multimedia Computing, Communications, and Applications (TOMM)},\n",
    "#   volume={15},\n",
    "#   number={2s},\n",
    "#   pages={60},\n",
    "#   year={2019},\n",
    "#   publisher={ACM}\n",
    "# }\n",
    "# https://deepart.hkust.edu.hk/ART500K/art500k.html"
   ]
  },
  {
   "cell_type": "markdown",
   "metadata": {},
   "source": []
  }
 ],
 "metadata": {
  "kernelspec": {
   "display_name": "itcs-3156",
   "language": "python",
   "name": "python3"
  },
  "language_info": {
   "codemirror_mode": {
    "name": "ipython",
    "version": 3
   },
   "file_extension": ".py",
   "mimetype": "text/x-python",
   "name": "python",
   "nbconvert_exporter": "python",
   "pygments_lexer": "ipython3",
   "version": "3.9.19"
  }
 },
 "nbformat": 4,
 "nbformat_minor": 2
}
