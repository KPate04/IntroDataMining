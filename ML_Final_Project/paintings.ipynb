{
 "cells": [
  {
   "cell_type": "markdown",
   "metadata": {},
   "source": [
    "##### Creation of a classification model for various paintings to identify the genre, in the dataset as the \"TYPE\" column, of the painting. <br> I will be using a Convolutional Neural Network with the implementations of ReLU. #####"
   ]
  },
  {
   "cell_type": "code",
   "execution_count": 1,
   "metadata": {},
   "outputs": [],
   "source": [
    "import pandas as pd\n",
    "import matplotlib.pyplot as plt\n",
    "import numpy as np\n",
    "import seaborn as sns\n",
    "import sklearn"
   ]
  },
  {
   "cell_type": "code",
   "execution_count": 3,
   "metadata": {},
   "outputs": [
    {
     "data": {
      "text/html": [
       "<div>\n",
       "<style scoped>\n",
       "    .dataframe tbody tr th:only-of-type {\n",
       "        vertical-align: middle;\n",
       "    }\n",
       "\n",
       "    .dataframe tbody tr th {\n",
       "        vertical-align: top;\n",
       "    }\n",
       "\n",
       "    .dataframe thead th {\n",
       "        text-align: right;\n",
       "    }\n",
       "</style>\n",
       "<table border=\"1\" class=\"dataframe\">\n",
       "  <thead>\n",
       "    <tr style=\"text-align: right;\">\n",
       "      <th></th>\n",
       "      <th>ID</th>\n",
       "      <th>FILE</th>\n",
       "      <th>AUTHOR</th>\n",
       "      <th>BORN-DIED</th>\n",
       "      <th>TITLE</th>\n",
       "      <th>DATE</th>\n",
       "      <th>TECHNIQUE</th>\n",
       "      <th>LOCATION</th>\n",
       "      <th>FORM</th>\n",
       "      <th>TYPE</th>\n",
       "      <th>SCHOOL</th>\n",
       "      <th>TIMELINE</th>\n",
       "      <th>URL</th>\n",
       "    </tr>\n",
       "  </thead>\n",
       "  <tbody>\n",
       "    <tr>\n",
       "      <th>0</th>\n",
       "      <td>1</td>\n",
       "      <td>1.jpg</td>\n",
       "      <td>AACHEN, Hans von</td>\n",
       "      <td>(b. 1552, Köln, d. 1615, Praha)</td>\n",
       "      <td>Allegory</td>\n",
       "      <td>1598</td>\n",
       "      <td>Oil on copper, 56 x 47 cm</td>\n",
       "      <td>Alte Pinakothek, Munich</td>\n",
       "      <td>painting</td>\n",
       "      <td>mythological</td>\n",
       "      <td>German</td>\n",
       "      <td>1601-1650</td>\n",
       "      <td>http://www.wga.hu/html/a/aachen/allegory.html</td>\n",
       "    </tr>\n",
       "    <tr>\n",
       "      <th>1</th>\n",
       "      <td>2</td>\n",
       "      <td>2.jpg</td>\n",
       "      <td>AACHEN, Hans von</td>\n",
       "      <td>(b. 1552, Köln, d. 1615, Praha)</td>\n",
       "      <td>Bacchus, Ceres and Cupid</td>\n",
       "      <td>-</td>\n",
       "      <td>Oil on canvas, 163 x 113 cm</td>\n",
       "      <td>Kunsthistorisches Museum, Vienna</td>\n",
       "      <td>painting</td>\n",
       "      <td>mythological</td>\n",
       "      <td>German</td>\n",
       "      <td>1601-1650</td>\n",
       "      <td>http://www.wga.hu/html/a/aachen/bacchus.html</td>\n",
       "    </tr>\n",
       "    <tr>\n",
       "      <th>2</th>\n",
       "      <td>4</td>\n",
       "      <td>4.jpg</td>\n",
       "      <td>AACHEN, Hans von</td>\n",
       "      <td>(b. 1552, Köln, d. 1615, Praha)</td>\n",
       "      <td>Portrait of Emperor Rudolf II</td>\n",
       "      <td>1590s</td>\n",
       "      <td>Oil on canvas, 60 x 48 cm</td>\n",
       "      <td>Kunsthistorisches Museum, Vienna</td>\n",
       "      <td>painting</td>\n",
       "      <td>portrait</td>\n",
       "      <td>German</td>\n",
       "      <td>1601-1650</td>\n",
       "      <td>http://www.wga.hu/html/a/aachen/rudolf2.html</td>\n",
       "    </tr>\n",
       "    <tr>\n",
       "      <th>3</th>\n",
       "      <td>5</td>\n",
       "      <td>5.jpg</td>\n",
       "      <td>AACHEN, Hans von</td>\n",
       "      <td>(b. 1552, Köln, d. 1615, Praha)</td>\n",
       "      <td>Self-Portrait with a Glass of Wine</td>\n",
       "      <td>c. 1596</td>\n",
       "      <td>Oil on canvas, 53 x 44 cm</td>\n",
       "      <td>Private collection</td>\n",
       "      <td>painting</td>\n",
       "      <td>portrait</td>\n",
       "      <td>German</td>\n",
       "      <td>1601-1650</td>\n",
       "      <td>http://www.wga.hu/html/a/aachen/selfport.html</td>\n",
       "    </tr>\n",
       "    <tr>\n",
       "      <th>4</th>\n",
       "      <td>6</td>\n",
       "      <td>6.jpg</td>\n",
       "      <td>AAGAARD, Carl Frederik</td>\n",
       "      <td>(b. 1833, Odense, d. 1895, København)</td>\n",
       "      <td>Deer beside a Lake</td>\n",
       "      <td>1888</td>\n",
       "      <td>Oil on canvas, 53 x 82 cm</td>\n",
       "      <td>Private collection</td>\n",
       "      <td>painting</td>\n",
       "      <td>landscape</td>\n",
       "      <td>Danish</td>\n",
       "      <td>1851-1900</td>\n",
       "      <td>http://www.wga.hu/html/a/aagaard/deerlake.html</td>\n",
       "    </tr>\n",
       "  </tbody>\n",
       "</table>\n",
       "</div>"
      ],
      "text/plain": [
       "   ID   FILE                  AUTHOR                              BORN-DIED  \\\n",
       "0   1  1.jpg        AACHEN, Hans von        (b. 1552, Köln, d. 1615, Praha)   \n",
       "1   2  2.jpg        AACHEN, Hans von        (b. 1552, Köln, d. 1615, Praha)   \n",
       "2   4  4.jpg        AACHEN, Hans von        (b. 1552, Köln, d. 1615, Praha)   \n",
       "3   5  5.jpg        AACHEN, Hans von        (b. 1552, Köln, d. 1615, Praha)   \n",
       "4   6  6.jpg  AAGAARD, Carl Frederik  (b. 1833, Odense, d. 1895, København)   \n",
       "\n",
       "                                TITLE     DATE                    TECHNIQUE  \\\n",
       "0                            Allegory     1598    Oil on copper, 56 x 47 cm   \n",
       "1            Bacchus, Ceres and Cupid        -  Oil on canvas, 163 x 113 cm   \n",
       "2       Portrait of Emperor Rudolf II    1590s    Oil on canvas, 60 x 48 cm   \n",
       "3  Self-Portrait with a Glass of Wine  c. 1596    Oil on canvas, 53 x 44 cm   \n",
       "4                  Deer beside a Lake     1888    Oil on canvas, 53 x 82 cm   \n",
       "\n",
       "                           LOCATION      FORM          TYPE  SCHOOL  \\\n",
       "0           Alte Pinakothek, Munich  painting  mythological  German   \n",
       "1  Kunsthistorisches Museum, Vienna  painting  mythological  German   \n",
       "2  Kunsthistorisches Museum, Vienna  painting      portrait  German   \n",
       "3                Private collection  painting      portrait  German   \n",
       "4                Private collection  painting     landscape  Danish   \n",
       "\n",
       "    TIMELINE                                             URL  \n",
       "0  1601-1650   http://www.wga.hu/html/a/aachen/allegory.html  \n",
       "1  1601-1650    http://www.wga.hu/html/a/aachen/bacchus.html  \n",
       "2  1601-1650    http://www.wga.hu/html/a/aachen/rudolf2.html  \n",
       "3  1601-1650   http://www.wga.hu/html/a/aachen/selfport.html  \n",
       "4  1851-1900  http://www.wga.hu/html/a/aagaard/deerlake.html  "
      ]
     },
     "execution_count": 3,
     "metadata": {},
     "output_type": "execute_result"
    }
   ],
   "source": [
    "paint = pd.read_csv(\"paint_data_labels.csv\", sep=\"\\t\")\n",
    "paint.head()"
   ]
  },
  {
   "cell_type": "code",
   "execution_count": 4,
   "metadata": {},
   "outputs": [
    {
     "data": {
      "text/plain": [
       "TYPE\n",
       "portrait        5640\n",
       "landscape       4342\n",
       "mythological    4047\n",
       "still-life      1400\n",
       "Name: count, dtype: int64"
      ]
     },
     "execution_count": 4,
     "metadata": {},
     "output_type": "execute_result"
    }
   ],
   "source": [
    "paint[\"TYPE\"].value_counts()"
   ]
  },
  {
   "cell_type": "code",
   "execution_count": null,
   "metadata": {},
   "outputs": [],
   "source": []
  }
 ],
 "metadata": {
  "kernelspec": {
   "display_name": "itcs-3156",
   "language": "python",
   "name": "python3"
  },
  "language_info": {
   "codemirror_mode": {
    "name": "ipython",
    "version": 3
   },
   "file_extension": ".py",
   "mimetype": "text/x-python",
   "name": "python",
   "nbconvert_exporter": "python",
   "pygments_lexer": "ipython3",
   "version": "3.9.19"
  }
 },
 "nbformat": 4,
 "nbformat_minor": 2
}
