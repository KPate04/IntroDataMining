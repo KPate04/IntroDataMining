{
 "cells": [
  {
   "cell_type": "markdown",
   "metadata": {},
   "source": [
    "##### Creation of a classification model for various paintings to identify the genre, in the dataset as the \"TYPE\" column, of the painting. <br> I will be using a Multinomial Logistic Regression Neural Network and an Agglomerative Clustering Model. #####"
   ]
  },
  {
   "cell_type": "code",
   "execution_count": 1,
   "metadata": {},
   "outputs": [],
   "source": [
    "import pandas as pd\n",
    "import matplotlib.pyplot as plt\n",
    "import numpy as np\n",
    "import seaborn as sns\n",
    "import datetime\n",
    "from sklearn.preprocessing import StandardScaler\n",
    "from sklearn.model_selection import train_test_split\n",
    "from sklearn.metrics import classification_report, confusion_matrix\n",
    "import tensorflow as tf\n",
    "import os\n",
    "from keras.src.legacy.preprocessing.image import ImageDataGenerator"
   ]
  },
  {
   "cell_type": "code",
   "execution_count": 2,
   "metadata": {},
   "outputs": [
    {
     "data": {
      "text/html": [
       "<div>\n",
       "<style scoped>\n",
       "    .dataframe tbody tr th:only-of-type {\n",
       "        vertical-align: middle;\n",
       "    }\n",
       "\n",
       "    .dataframe tbody tr th {\n",
       "        vertical-align: top;\n",
       "    }\n",
       "\n",
       "    .dataframe thead th {\n",
       "        text-align: right;\n",
       "    }\n",
       "</style>\n",
       "<table border=\"1\" class=\"dataframe\">\n",
       "  <thead>\n",
       "    <tr style=\"text-align: right;\">\n",
       "      <th></th>\n",
       "      <th>ID</th>\n",
       "      <th>FILE</th>\n",
       "      <th>AUTHOR</th>\n",
       "      <th>BORN-DIED</th>\n",
       "      <th>TITLE</th>\n",
       "      <th>DATE</th>\n",
       "      <th>TECHNIQUE</th>\n",
       "      <th>LOCATION</th>\n",
       "      <th>FORM</th>\n",
       "      <th>TYPE</th>\n",
       "      <th>SCHOOL</th>\n",
       "      <th>TIMELINE</th>\n",
       "      <th>URL</th>\n",
       "    </tr>\n",
       "  </thead>\n",
       "  <tbody>\n",
       "    <tr>\n",
       "      <th>0</th>\n",
       "      <td>4</td>\n",
       "      <td>4.jpg</td>\n",
       "      <td>AACHEN, Hans von</td>\n",
       "      <td>(b. 1552, Köln, d. 1615, Praha)</td>\n",
       "      <td>Portrait of Emperor Rudolf II</td>\n",
       "      <td>1590s</td>\n",
       "      <td>Oil on canvas, 60 x 48 cm</td>\n",
       "      <td>Kunsthistorisches Museum, Vienna</td>\n",
       "      <td>painting</td>\n",
       "      <td>portrait</td>\n",
       "      <td>German</td>\n",
       "      <td>1601-1650</td>\n",
       "      <td>http://www.wga.hu/html/a/aachen/rudolf2.html</td>\n",
       "    </tr>\n",
       "    <tr>\n",
       "      <th>1</th>\n",
       "      <td>5</td>\n",
       "      <td>5.jpg</td>\n",
       "      <td>AACHEN, Hans von</td>\n",
       "      <td>(b. 1552, Köln, d. 1615, Praha)</td>\n",
       "      <td>Self-Portrait with a Glass of Wine</td>\n",
       "      <td>c. 1596</td>\n",
       "      <td>Oil on canvas, 53 x 44 cm</td>\n",
       "      <td>Private collection</td>\n",
       "      <td>painting</td>\n",
       "      <td>portrait</td>\n",
       "      <td>German</td>\n",
       "      <td>1601-1650</td>\n",
       "      <td>http://www.wga.hu/html/a/aachen/selfport.html</td>\n",
       "    </tr>\n",
       "    <tr>\n",
       "      <th>2</th>\n",
       "      <td>6</td>\n",
       "      <td>6.jpg</td>\n",
       "      <td>AAGAARD, Carl Frederik</td>\n",
       "      <td>(b. 1833, Odense, d. 1895, København)</td>\n",
       "      <td>Deer beside a Lake</td>\n",
       "      <td>1888</td>\n",
       "      <td>Oil on canvas, 53 x 82 cm</td>\n",
       "      <td>Private collection</td>\n",
       "      <td>painting</td>\n",
       "      <td>landscape</td>\n",
       "      <td>Danish</td>\n",
       "      <td>1851-1900</td>\n",
       "      <td>http://www.wga.hu/html/a/aagaard/deerlake.html</td>\n",
       "    </tr>\n",
       "    <tr>\n",
       "      <th>3</th>\n",
       "      <td>7</td>\n",
       "      <td>7.jpg</td>\n",
       "      <td>AAGAARD, Carl Frederik</td>\n",
       "      <td>(b. 1833, Odense, d. 1895, København)</td>\n",
       "      <td>The Rose Garden</td>\n",
       "      <td>1877</td>\n",
       "      <td>Oil on canvas, 98 x 80 cm</td>\n",
       "      <td>Private collection</td>\n",
       "      <td>painting</td>\n",
       "      <td>landscape</td>\n",
       "      <td>Danish</td>\n",
       "      <td>1851-1900</td>\n",
       "      <td>http://www.wga.hu/html/a/aagaard/rosegard.html</td>\n",
       "    </tr>\n",
       "    <tr>\n",
       "      <th>4</th>\n",
       "      <td>15</td>\n",
       "      <td>15.jpg</td>\n",
       "      <td>ABBATE, Niccolò dell'</td>\n",
       "      <td>(b. 1509, Modena, d. 1571, Fontainebleau)</td>\n",
       "      <td>Stag Hunt</td>\n",
       "      <td>1550-52</td>\n",
       "      <td>Oil on canvas, 116 x 159 cm</td>\n",
       "      <td>Galleria Borghese, Rome</td>\n",
       "      <td>painting</td>\n",
       "      <td>landscape</td>\n",
       "      <td>Italian</td>\n",
       "      <td>1501-1550</td>\n",
       "      <td>http://www.wga.hu/html/a/abbate/deerhunt.html</td>\n",
       "    </tr>\n",
       "  </tbody>\n",
       "</table>\n",
       "</div>"
      ],
      "text/plain": [
       "   ID    FILE                  AUTHOR  \\\n",
       "0   4   4.jpg        AACHEN, Hans von   \n",
       "1   5   5.jpg        AACHEN, Hans von   \n",
       "2   6   6.jpg  AAGAARD, Carl Frederik   \n",
       "3   7   7.jpg  AAGAARD, Carl Frederik   \n",
       "4  15  15.jpg   ABBATE, Niccolò dell'   \n",
       "\n",
       "                                   BORN-DIED  \\\n",
       "0            (b. 1552, Köln, d. 1615, Praha)   \n",
       "1            (b. 1552, Köln, d. 1615, Praha)   \n",
       "2      (b. 1833, Odense, d. 1895, København)   \n",
       "3      (b. 1833, Odense, d. 1895, København)   \n",
       "4  (b. 1509, Modena, d. 1571, Fontainebleau)   \n",
       "\n",
       "                                TITLE     DATE                    TECHNIQUE  \\\n",
       "0       Portrait of Emperor Rudolf II    1590s    Oil on canvas, 60 x 48 cm   \n",
       "1  Self-Portrait with a Glass of Wine  c. 1596    Oil on canvas, 53 x 44 cm   \n",
       "2                  Deer beside a Lake     1888    Oil on canvas, 53 x 82 cm   \n",
       "3                     The Rose Garden     1877    Oil on canvas, 98 x 80 cm   \n",
       "4                           Stag Hunt  1550-52  Oil on canvas, 116 x 159 cm   \n",
       "\n",
       "                           LOCATION      FORM       TYPE   SCHOOL   TIMELINE  \\\n",
       "0  Kunsthistorisches Museum, Vienna  painting   portrait   German  1601-1650   \n",
       "1                Private collection  painting   portrait   German  1601-1650   \n",
       "2                Private collection  painting  landscape   Danish  1851-1900   \n",
       "3                Private collection  painting  landscape   Danish  1851-1900   \n",
       "4           Galleria Borghese, Rome  painting  landscape  Italian  1501-1550   \n",
       "\n",
       "                                              URL  \n",
       "0    http://www.wga.hu/html/a/aachen/rudolf2.html  \n",
       "1   http://www.wga.hu/html/a/aachen/selfport.html  \n",
       "2  http://www.wga.hu/html/a/aagaard/deerlake.html  \n",
       "3  http://www.wga.hu/html/a/aagaard/rosegard.html  \n",
       "4   http://www.wga.hu/html/a/abbate/deerhunt.html  "
      ]
     },
     "execution_count": 2,
     "metadata": {},
     "output_type": "execute_result"
    }
   ],
   "source": [
    "paint = pd.read_csv(\"paint_data_labels.csv\", sep=\"\\t\")\n",
    "paint.head()"
   ]
  },
  {
   "cell_type": "code",
   "execution_count": 3,
   "metadata": {},
   "outputs": [
    {
     "data": {
      "text/plain": [
       "TYPE\n",
       "portrait      5640\n",
       "landscape     4342\n",
       "still-life    1400\n",
       "Name: count, dtype: int64"
      ]
     },
     "execution_count": 3,
     "metadata": {},
     "output_type": "execute_result"
    }
   ],
   "source": [
    "paint[\"TYPE\"].value_counts()"
   ]
  },
  {
   "cell_type": "code",
   "execution_count": 4,
   "metadata": {},
   "outputs": [
    {
     "data": {
      "image/png": "[encoded data removed]",
      "text/plain": [
       "<Figure size 1000x600 with 1 Axes>"
      ]
     },
     "metadata": {},
     "output_type": "display_data"
    }
   ],
   "source": [
    "paint_counts = paint['TYPE'].value_counts()\n",
    "plt.figure(figsize=(10, 6))\n",
    "paint_counts.plot(kind='bar', color='lightcoral')\n",
    "plt.title('Category Distribution in Painting Dataset After Pre-Processing')\n",
    "plt.xlabel('Category')\n",
    "plt.ylabel('Count')\n",
    "plt.xticks(rotation=360)\n",
    "plt.show()"
   ]
  },
  {
   "cell_type": "markdown",
   "metadata": {},
   "source": [
    "Splitting dataset into training and testing sets - no need to rerun"
   ]
  },
  {
   "cell_type": "code",
   "execution_count": 5,
   "metadata": {},
   "outputs": [],
   "source": [
    "# import os\n",
    "# import pandas as pd\n",
    "# from sklearn.model_selection import train_test_split\n",
    "# import shutil\n",
    "\n",
    "# csv_file_path = \"paint_data_labels.csv\"  # path to copy of labels \n",
    "# image_folder = \"paint_data/\"  # path to folder of images\n",
    "# testing_image_folder = \"paint_test/test_images/\"  # path to folder where test images will be stored\n",
    "# training_image_folder = \"paint_train/train_images/\"  # path to folder where training images will be stored\n",
    "# testing_label_file = \"paint_test/test_labels.csv\"  # path to test labels\n",
    "# training_label_file = \"paint_train/train_labels.csv\"  # path to train labels\n",
    "\n",
    "# os.makedirs(testing_image_folder, exist_ok=True)\n",
    "# os.makedirs(training_image_folder, exist_ok=True)\n",
    "\n",
    "# data = pd.read_csv(csv_file_path, sep=\"\\t\")\n",
    "# data = data.sort_values(by='ID').reset_index(drop=True)\n",
    "\n",
    "# train_set, test_set = train_test_split(\n",
    "#     data,\n",
    "#     test_size=0.2,\n",
    "#     stratify=data['TYPE'],\n",
    "#     random_state=42\n",
    "# )\n",
    "\n",
    "# train_set = train_set.sort_values(by='ID').reset_index(drop=True)\n",
    "# test_set = test_set.sort_values(by='ID').reset_index(drop=True)\n",
    "\n",
    "# def move_images(data_subset, target_folder):\n",
    "#     for _, row in data_subset.iterrows():\n",
    "#         file_name = row['FILE']\n",
    "#         if pd.notna(file_name):\n",
    "#             src_path = os.path.join(image_folder, file_name)\n",
    "#             dest_path = os.path.join(target_folder, file_name)\n",
    "#             if os.path.exists(src_path):\n",
    "#                 shutil.move(src_path, dest_path)\n",
    "#                 print(f\"Moved file: {file_name} from {src_path} to {dest_path}\")\n",
    "#             else:\n",
    "#                 print(f\"File not found: {file_name} (Skipping)\")\n",
    "\n",
    "# print(\"\\nMoving images to training set...\")\n",
    "# move_images(train_set, training_image_folder)\n",
    "# print(\"\\nMoving images to testing set...\")\n",
    "# move_images(test_set, testing_image_folder)\n",
    "\n",
    "# train_set.to_csv(training_label_file, sep=\"\\t\", index=False)\n",
    "# test_set.to_csv(testing_label_file, sep=\"\\t\", index=False)\n",
    "\n",
    "# print(f\"\\nTraining set: {len(train_set)} samples, images moved to {training_image_folder}\")\n",
    "# print(f\"Testing set: {len(test_set)} samples, images moved to {testing_image_folder}\")"
   ]
  },
  {
   "cell_type": "code",
   "execution_count": 6,
   "metadata": {},
   "outputs": [
    {
     "data": {
      "text/plain": [
       "TYPE\n",
       "portrait      4512\n",
       "landscape     3473\n",
       "still-life    1120\n",
       "Name: count, dtype: int64"
      ]
     },
     "execution_count": 6,
     "metadata": {},
     "output_type": "execute_result"
    }
   ],
   "source": [
    "train = pd.read_csv(\"paint_train\\\\train_labels.csv\", sep = '\\t')\n",
    "train[\"TYPE\"].value_counts()"
   ]
  },
  {
   "cell_type": "code",
   "execution_count": 7,
   "metadata": {},
   "outputs": [
    {
     "data": {
      "image/png": "[encoded data removed]",
      "text/plain": [
       "<Figure size 1000x600 with 1 Axes>"
      ]
     },
     "metadata": {},
     "output_type": "display_data"
    }
   ],
   "source": [
    "paint_counts = paint['TYPE'].value_counts()\n",
    "plt.figure(figsize=(10, 6))\n",
    "paint_counts.plot(kind='bar', color='skyblue')\n",
    "plt.title('Category Distribution in Training Dataset Before Pre-Processing')\n",
    "plt.xlabel('Category')\n",
    "plt.ylabel('Count')\n",
    "plt.xticks(rotation=360)\n",
    "plt.show()"
   ]
  },
  {
   "cell_type": "code",
   "execution_count": 8,
   "metadata": {},
   "outputs": [
    {
     "data": {
      "text/plain": [
       "TYPE\n",
       "portrait      1128\n",
       "landscape      869\n",
       "still-life     280\n",
       "Name: count, dtype: int64"
      ]
     },
     "execution_count": 8,
     "metadata": {},
     "output_type": "execute_result"
    }
   ],
   "source": [
    "test = pd.read_csv(\"paint_test\\\\test_labels.csv\", sep = '\\t')\n",
    "test[\"TYPE\"].value_counts()"
   ]
  },
  {
   "cell_type": "markdown",
   "metadata": {},
   "source": [
    "Fixing data imbalance through data augmentation - Only needed on the training set & no need to rerun"
   ]
  },
  {
   "cell_type": "code",
   "execution_count": 9,
   "metadata": {},
   "outputs": [],
   "source": [
    "# Data Augmentation - augmenting the landscape type to increase the number of examples\n",
    "\n",
    "# import tensorflow as tf\n",
    "# import os\n",
    "# from keras.src.legacy.preprocessing.image import ImageDataGenerator\n",
    "# load_img = tf.keras.utils.load_img\n",
    "# img_to_array = tf.keras.utils.img_to_array\n",
    "# save_img = tf.keras.utils.save_img\n",
    "# array_to_img = tf.keras.utils.array_to_img\n",
    "\n",
    "# aug_labels = 'paint_train/aug_labels.csv'\n",
    "# aug_image = 'paint_train/aug_images/'\n",
    "# data = pd.read_csv(aug_labels, sep='\\t')\n",
    "# new_images = []\n",
    "\n",
    "# still_life_data = data[data['TYPE'] == 'still-life']\n",
    "\n",
    "# # provides options to augment images\n",
    "# augmentor = ImageDataGenerator(\n",
    "#     rotation_range=30,\n",
    "#     horizontal_flip=True,\n",
    "#     vertical_flip=True,\n",
    "#     fill_mode='nearest'\n",
    "# )\n",
    "\n",
    "# current_max_id = data['ID'].max()\n",
    "# next_id = current_max_id + 1\n",
    "\n",
    "# augmented_count = 0\n",
    "\n",
    "# for _, row in still_life_data.iterrows():\n",
    "#     if augmented_count >= 1120:\n",
    "#         break \n",
    "\n",
    "#     image_path = os.path.join(aug_image, row['FILE'])\n",
    "#     try:\n",
    "#         img = load_img(image_path)\n",
    "#         img_array = img_to_array(img)\n",
    "#         img_array = img_array.reshape((1,) + img_array.shape)\n",
    "\n",
    "#         # augments image\n",
    "#         for batch in augmentor.flow(img_array, batch_size=1):\n",
    "#             # saves changed file\n",
    "#             new_file = f\"{next_id}.jpg\"\n",
    "#             new_image_path = os.path.join(aug_image, new_file)\n",
    "#             save_img(new_image_path, array_to_img(batch[0]))\n",
    "\n",
    "#             # adds new row in label file\n",
    "#             new_row = row.copy()\n",
    "#             new_row['ID'] = next_id\n",
    "#             new_row['FILE'] = new_file\n",
    "#             new_images.append(new_row)\n",
    "\n",
    "#             next_id += 1\n",
    "#             augmented_count += 1\n",
    "#             break\n",
    "        \n",
    "#     except Exception as e:\n",
    "#         print(f\"Error processing image {row['FILE']}: {e}\")\n",
    "\n",
    "# # add new rows to label dataframe\n",
    "# data = pd.concat([data, pd.DataFrame(new_images)], ignore_index=True)\n",
    "\n",
    "# # save updated dataframe into file\n",
    "# data.to_csv(aug_labels, sep='\\t', index=False)\n",
    "\n",
    "# print(\"Augmentation complete and labels updated.\")"
   ]
  },
  {
   "cell_type": "code",
   "execution_count": 10,
   "metadata": {},
   "outputs": [
    {
     "data": {
      "text/plain": [
       "TYPE\n",
       "portrait      4512\n",
       "landscape     3472\n",
       "still-life    3360\n",
       "Name: count, dtype: int64"
      ]
     },
     "execution_count": 10,
     "metadata": {},
     "output_type": "execute_result"
    }
   ],
   "source": [
    "train = pd.read_csv(\"paint_train\\\\aug_labels.csv\", sep = '\\t')\n",
    "train[\"TYPE\"].value_counts()\n",
    "# After running: \n",
    "#   TYPE\n",
    "#   portrait      4512\n",
    "#   landscape     3473\n",
    "#   still-life    2240\n",
    "# While the distribution is nowhere near perfect, it is still better than the previous split\n",
    "# I will rerun it only on the original images and not on the already augmented images. This will bring the total images to 3360 \n",
    "# which will make it more balanced. \n",
    "# After re-running: \n",
    "#   TYPE\n",
    "#   portrait      4512\n",
    "#   landscape     3473\n",
    "#   still-life    3360"
   ]
  },
  {
   "cell_type": "code",
   "execution_count": 11,
   "metadata": {},
   "outputs": [
    {
     "data": {
      "image/png": "[encoded data removed]",
      "text/plain": [
       "<Figure size 1000x600 with 1 Axes>"
      ]
     },
     "metadata": {},
     "output_type": "display_data"
    }
   ],
   "source": [
    "paint_counts = train['TYPE'].value_counts()\n",
    "plt.figure(figsize=(10, 6))\n",
    "paint_counts.plot(kind='bar', color='skyblue')\n",
    "plt.title('Category Distribution in Training Dataset After Augmentation')\n",
    "plt.xlabel('Category')\n",
    "plt.ylabel('Count')\n",
    "plt.xticks(rotation=360)\n",
    "plt.show()"
   ]
  },
  {
   "cell_type": "code",
   "execution_count": 12,
   "metadata": {},
   "outputs": [],
   "source": [
    "# Making data computer-readable - changing image sizing & greyscaling\n",
    "\n",
    "# load_img = tf.keras.utils.load_img\n",
    "# img_to_array = tf.keras.utils.img_to_array\n",
    "# save_img = tf.keras.utils.save_img\n",
    "\n",
    "# labels_file = 'paint_train/train_labels.csv'\n",
    "# data = pd.read_csv(labels_file, sep='\\t')\n",
    "# image_folder = 'paint_train/train_images/'\n",
    "# processed_images_folder = 'paint_train/processed_images/'\n",
    "# processed_labels_file = 'paint_train/img_train_labels.csv'\n",
    "# os.makedirs(processed_images_folder, exist_ok=True)\n",
    "\n",
    "# new_images = []\n",
    "# target_size = (256, 256)\n",
    "# color = 'grayscale'\n",
    "# current_id = data['ID'].min()\n",
    "\n",
    "# for _, row in data.iterrows():\n",
    "#     image_path = os.path.join(image_folder, row['FILE'])\n",
    "#     try:\n",
    "#         img = load_img(image_path, target_size=target_size, color_mode=color)\n",
    "#         img_array = img_to_array(img)\n",
    "#         new_file = f\"{current_id}.jpg\"\n",
    "#         new_image_path = os.path.join(processed_images_folder, new_file)\n",
    "#         save_img(new_image_path, img_array)\n",
    "\n",
    "#         new_row = row.copy()\n",
    "#         new_row['ID'] = current_id\n",
    "#         new_row['FILE'] = new_file\n",
    "#         new_images.append(new_row)\n",
    "#         current_id += 1\n",
    "\n",
    "#     except Exception as e:\n",
    "#         print(f\"Error processing image {row['FILE']}: {e}\")\n",
    "\n",
    "# if new_images:\n",
    "#     processed_data = pd.DataFrame(new_images)\n",
    "#     processed_data.to_csv(processed_labels_file, sep='\\t', index=False)\n",
    "\n",
    "# print(\"Image processing complete. Images resized to target size and converted to grayscale.\")"
   ]
  },
  {
   "cell_type": "markdown",
   "metadata": {},
   "source": [
    "Creation of the models"
   ]
  },
  {
   "cell_type": "markdown",
   "metadata": {},
   "source": [
    "Multinomial Logistic Regression NN:"
   ]
  },
  {
   "cell_type": "code",
   "execution_count": 13,
   "metadata": {},
   "outputs": [],
   "source": [
    "import tensorflow as tf\n",
    "from tensorflow.keras.models import Sequential\n",
    "from tensorflow.keras.layers import Flatten, Dense, Softmax\n",
    "from tensorflow.keras.utils import to_categorical\n",
    "\n",
    "load_img = tf.keras.utils.load_img\n",
    "img_to_array = tf.keras.utils.img_to_array\n",
    "\n",
    "labels_data = pd.read_csv('paint_train/aug_labels.csv', sep='\\t')\n",
    "labels = labels_data['TYPE'].astype('category')\n",
    "train_labels_encoded = labels.cat.codes\n",
    "num_classes = len(labels.cat.categories)\n",
    "train_labels_one_hot = to_categorical(train_labels_encoded, num_classes=num_classes)\n",
    "\n",
    "image_size = (256, 256)\n",
    "train_images = []\n",
    "\n",
    "for file in labels_data['FILE']:\n",
    "    image_path = os.path.join('paint_train/aug_images/', file)\n",
    "    try:\n",
    "        img = load_img(image_path, target_size=image_size, color_mode='grayscale')\n",
    "        img_array = img_to_array(img) / 255.0\n",
    "        train_images.append(img_array)\n",
    "    except Exception as e:\n",
    "        print(f\"Error loading image {file}: {e}\")\n",
    "\n",
    "train_images = np.array(train_images)"
   ]
  },
  {
   "cell_type": "code",
   "execution_count": 14,
   "metadata": {},
   "outputs": [],
   "source": [
    "test_labels_data = pd.read_csv('paint_test/test_labels.csv', sep='\\t')\n",
    "test_labels = test_labels_data['TYPE'].astype('category')\n",
    "test_labels_encoded = test_labels.astype('category').cat.codes\n",
    "test_labels_one_hot = to_categorical(test_labels_encoded, num_classes=num_classes)\n",
    "\n",
    "test_images = []\n",
    "for file in test_labels_data['FILE']:\n",
    "    image_path = os.path.join('paint_test/test_images/', file)\n",
    "    try:\n",
    "        img = load_img(image_path, target_size=image_size, color_mode='grayscale')\n",
    "        img_array = img_to_array(img) / 255.0\n",
    "        test_images.append(img_array)\n",
    "    except Exception as e:\n",
    "        print(f\"Error loading image {file}: {e}\")\n",
    "\n",
    "test_images = np.array(test_images)\n"
   ]
  },
  {
   "cell_type": "code",
   "execution_count": 15,
   "metadata": {},
   "outputs": [
    {
     "name": "stdout",
     "output_type": "stream",
     "text": [
      "Train Labels Shape: (11344, 3)\n",
      "Test Labels Shape: (2277, 3)\n"
     ]
    }
   ],
   "source": [
    "print(f\"Train Labels Shape: {train_labels_one_hot.shape}\")\n",
    "print(f\"Test Labels Shape: {test_labels_one_hot.shape}\")"
   ]
  },
  {
   "cell_type": "code",
   "execution_count": 16,
   "metadata": {},
   "outputs": [
    {
     "name": "stdout",
     "output_type": "stream",
     "text": [
      "Train Labels Original Length: 11344\n",
      "Train Images Shape: (11344, 256, 256, 1)\n",
      "Test Labels Original Length: 2277\n",
      "Test Images Shape: (2277, 256, 256, 1)\n"
     ]
    }
   ],
   "source": [
    "print(f\"Train Labels Original Length: {len(labels)}\")\n",
    "print(f\"Train Images Shape: {train_images.shape}\")\n",
    "\n",
    "print(f\"Test Labels Original Length: {len(test_labels)}\")\n",
    "print(f\"Test Images Shape: {test_images.shape}\")"
   ]
  },
  {
   "cell_type": "code",
   "execution_count": 33,
   "metadata": {},
   "outputs": [],
   "source": [
    "# build and compile model\n",
    "from tensorflow.keras.layers import Input, Dense, Flatten\n",
    "\n",
    "model = tf.keras.Sequential([\n",
    "    Input(shape=(256, 256, 1)),\n",
    "    Flatten(),\n",
    "    tf.keras.layers.Dense(3, activation='softmax')\n",
    "])\n",
    "model.compile(optimizer='adam',\n",
    "              loss='categorical_crossentropy',\n",
    "              metrics=['accuracy'])"
   ]
  },
  {
   "cell_type": "code",
   "execution_count": 36,
   "metadata": {},
   "outputs": [
    {
     "name": "stdout",
     "output_type": "stream",
     "text": [
      "Epoch 1/25\n",
      "\u001b[1m320/320\u001b[0m \u001b[32m━━━━━━━━━━━━━━━━━━━━\u001b[0m\u001b[37m\u001b[0m \u001b[1m1s\u001b[0m 5ms/step - accuracy: 0.7824 - loss: 1.1880 - val_accuracy: 0.1586 - val_loss: 4.7193\n",
      "Epoch 2/25\n",
      "\u001b[1m320/320\u001b[0m \u001b[32m━━━━━━━━━━━━━━━━━━━━\u001b[0m\u001b[37m\u001b[0m \u001b[1m1s\u001b[0m 4ms/step - accuracy: 0.8027 - loss: 0.7878 - val_accuracy: 0.0626 - val_loss: 9.4677\n",
      "Epoch 3/25\n",
      "\u001b[1m320/320\u001b[0m \u001b[32m━━━━━━━━━━━━━━━━━━━━\u001b[0m\u001b[37m\u001b[0m \u001b[1m1s\u001b[0m 4ms/step - accuracy: 0.8376 - loss: 0.5506 - val_accuracy: 0.2749 - val_loss: 3.4849\n",
      "Epoch 4/25\n",
      "\u001b[1m320/320\u001b[0m \u001b[32m━━━━━━━━━━━━━━━━━━━━\u001b[0m\u001b[37m\u001b[0m \u001b[1m1s\u001b[0m 3ms/step - accuracy: 0.8076 - loss: 0.7581 - val_accuracy: 0.2106 - val_loss: 4.0076\n",
      "Epoch 5/25\n",
      "\u001b[1m320/320\u001b[0m \u001b[32m━━━━━━━━━━━━━━━━━━━━\u001b[0m\u001b[37m\u001b[0m \u001b[1m1s\u001b[0m 5ms/step - accuracy: 0.7964 - loss: 0.8628 - val_accuracy: 0.1392 - val_loss: 7.1608\n",
      "Epoch 6/25\n",
      "\u001b[1m320/320\u001b[0m \u001b[32m━━━━━━━━━━━━━━━━━━━━\u001b[0m\u001b[37m\u001b[0m \u001b[1m2s\u001b[0m 5ms/step - accuracy: 0.7136 - loss: 2.4189 - val_accuracy: 0.0361 - val_loss: 14.2772\n",
      "Epoch 7/25\n",
      "\u001b[1m320/320\u001b[0m \u001b[32m━━━━━━━━━━━━━━━━━━━━\u001b[0m\u001b[37m\u001b[0m \u001b[1m1s\u001b[0m 4ms/step - accuracy: 0.7843 - loss: 1.3548 - val_accuracy: 0.0326 - val_loss: 12.1843\n",
      "Epoch 8/25\n",
      "\u001b[1m320/320\u001b[0m \u001b[32m━━━━━━━━━━━━━━━━━━━━\u001b[0m\u001b[37m\u001b[0m \u001b[1m2s\u001b[0m 6ms/step - accuracy: 0.7953 - loss: 1.0692 - val_accuracy: 0.4731 - val_loss: 2.3104\n",
      "Epoch 9/25\n",
      "\u001b[1m320/320\u001b[0m \u001b[32m━━━━━━━━━━━━━━━━━━━━\u001b[0m\u001b[37m\u001b[0m \u001b[1m2s\u001b[0m 6ms/step - accuracy: 0.8523 - loss: 0.5359 - val_accuracy: 0.4317 - val_loss: 2.3537\n",
      "Epoch 10/25\n",
      "\u001b[1m320/320\u001b[0m \u001b[32m━━━━━━━━━━━━━━━━━━━━\u001b[0m\u001b[37m\u001b[0m \u001b[1m2s\u001b[0m 7ms/step - accuracy: 0.8758 - loss: 0.4003 - val_accuracy: 0.0070 - val_loss: 13.8659\n",
      "Epoch 11/25\n",
      "\u001b[1m320/320\u001b[0m \u001b[32m━━━━━━━━━━━━━━━━━━━━\u001b[0m\u001b[37m\u001b[0m \u001b[1m2s\u001b[0m 6ms/step - accuracy: 0.7297 - loss: 1.9460 - val_accuracy: 0.3251 - val_loss: 4.9218\n",
      "Epoch 12/25\n",
      "\u001b[1m320/320\u001b[0m \u001b[32m━━━━━━━━━━━━━━━━━━━━\u001b[0m\u001b[37m\u001b[0m \u001b[1m2s\u001b[0m 6ms/step - accuracy: 0.8630 - loss: 0.5581 - val_accuracy: 0.6564 - val_loss: 1.2160\n",
      "Epoch 13/25\n",
      "\u001b[1m320/320\u001b[0m \u001b[32m━━━━━━━━━━━━━━━━━━━━\u001b[0m\u001b[37m\u001b[0m \u001b[1m2s\u001b[0m 6ms/step - accuracy: 0.8352 - loss: 0.6462 - val_accuracy: 0.0256 - val_loss: 13.0390\n",
      "Epoch 14/25\n",
      "\u001b[1m320/320\u001b[0m \u001b[32m━━━━━━━━━━━━━━━━━━━━\u001b[0m\u001b[37m\u001b[0m \u001b[1m2s\u001b[0m 6ms/step - accuracy: 0.7692 - loss: 1.5028 - val_accuracy: 0.5868 - val_loss: 1.5673\n",
      "Epoch 15/25\n",
      "\u001b[1m320/320\u001b[0m \u001b[32m━━━━━━━━━━━━━━━━━━━━\u001b[0m\u001b[37m\u001b[0m \u001b[1m2s\u001b[0m 6ms/step - accuracy: 0.8572 - loss: 0.5131 - val_accuracy: 0.3648 - val_loss: 2.9658\n",
      "Epoch 16/25\n",
      "\u001b[1m320/320\u001b[0m \u001b[32m━━━━━━━━━━━━━━━━━━━━\u001b[0m\u001b[37m\u001b[0m \u001b[1m2s\u001b[0m 6ms/step - accuracy: 0.8956 - loss: 0.3715 - val_accuracy: 0.2855 - val_loss: 4.3136\n",
      "Epoch 17/25\n",
      "\u001b[1m320/320\u001b[0m \u001b[32m━━━━━━━━━━━━━━━━━━━━\u001b[0m\u001b[37m\u001b[0m \u001b[1m2s\u001b[0m 6ms/step - accuracy: 0.8566 - loss: 0.5756 - val_accuracy: 0.2899 - val_loss: 3.9714\n",
      "Epoch 18/25\n",
      "\u001b[1m320/320\u001b[0m \u001b[32m━━━━━━━━━━━━━━━━━━━━\u001b[0m\u001b[37m\u001b[0m \u001b[1m2s\u001b[0m 6ms/step - accuracy: 0.8849 - loss: 0.3929 - val_accuracy: 0.2062 - val_loss: 5.1344\n",
      "Epoch 19/25\n",
      "\u001b[1m320/320\u001b[0m \u001b[32m━━━━━━━━━━━━━━━━━━━━\u001b[0m\u001b[37m\u001b[0m \u001b[1m2s\u001b[0m 5ms/step - accuracy: 0.9014 - loss: 0.3544 - val_accuracy: 0.1480 - val_loss: 6.7788\n",
      "Epoch 20/25\n",
      "\u001b[1m320/320\u001b[0m \u001b[32m━━━━━━━━━━━━━━━━━━━━\u001b[0m\u001b[37m\u001b[0m \u001b[1m2s\u001b[0m 5ms/step - accuracy: 0.8623 - loss: 0.5122 - val_accuracy: 0.2361 - val_loss: 4.5691\n",
      "Epoch 21/25\n",
      "\u001b[1m320/320\u001b[0m \u001b[32m━━━━━━━━━━━━━━━━━━━━\u001b[0m\u001b[37m\u001b[0m \u001b[1m1s\u001b[0m 4ms/step - accuracy: 0.8700 - loss: 0.5514 - val_accuracy: 0.1022 - val_loss: 7.4614\n",
      "Epoch 22/25\n",
      "\u001b[1m320/320\u001b[0m \u001b[32m━━━━━━━━━━━━━━━━━━━━\u001b[0m\u001b[37m\u001b[0m \u001b[1m1s\u001b[0m 4ms/step - accuracy: 0.8192 - loss: 0.9329 - val_accuracy: 0.2502 - val_loss: 4.9908\n",
      "Epoch 23/25\n",
      "\u001b[1m320/320\u001b[0m \u001b[32m━━━━━━━━━━━━━━━━━━━━\u001b[0m\u001b[37m\u001b[0m \u001b[1m1s\u001b[0m 4ms/step - accuracy: 0.8410 - loss: 0.7952 - val_accuracy: 0.2767 - val_loss: 4.1643\n",
      "Epoch 24/25\n",
      "\u001b[1m320/320\u001b[0m \u001b[32m━━━━━━━━━━━━━━━━━━━━\u001b[0m\u001b[37m\u001b[0m \u001b[1m3s\u001b[0m 5ms/step - accuracy: 0.8880 - loss: 0.4336 - val_accuracy: 0.1753 - val_loss: 5.2985\n",
      "Epoch 25/25\n",
      "\u001b[1m320/320\u001b[0m \u001b[32m━━━━━━━━━━━━━━━━━━━━\u001b[0m\u001b[37m\u001b[0m \u001b[1m1s\u001b[0m 4ms/step - accuracy: 0.8965 - loss: 0.4782 - val_accuracy: 0.3066 - val_loss: 4.1808\n",
      "\u001b[1m72/72\u001b[0m \u001b[32m━━━━━━━━━━━━━━━━━━━━\u001b[0m\u001b[37m\u001b[0m \u001b[1m0s\u001b[0m 2ms/step - accuracy: 0.5696 - loss: 2.9083\n",
      "Test Loss: 2.9581642150878906\n",
      "Test Accuracy: 0.574000895023346\n"
     ]
    }
   ],
   "source": [
    "# train the model\n",
    "model.fit(train_images, train_labels_one_hot, epochs=25, batch_size=32, validation_split=0.1)\n",
    "\n",
    "# evaluate model on test data\n",
    "loss, accuracy = model.evaluate(test_images, test_labels_one_hot)\n",
    "print(f\"Test Loss: {loss}\")\n",
    "print(f\"Test Accuracy: {accuracy}\")\n",
    "\n",
    "# tests in order for confusion matrix refernce: \n",
    "# epochs=25, batch_size=64\n",
    "# epochs=25, batch_size=32\n",
    "# epochs=32, batch_size=16\n",
    "# epochs=25, batch_size=32"
   ]
  },
  {
   "cell_type": "markdown",
   "metadata": {},
   "source": [
    "Evaluation for LRNN"
   ]
  },
  {
   "cell_type": "code",
   "execution_count": 23,
   "metadata": {},
   "outputs": [
    {
     "name": "stdout",
     "output_type": "stream",
     "text": [
      "\u001b[1m72/72\u001b[0m \u001b[32m━━━━━━━━━━━━━━━━━━━━\u001b[0m\u001b[37m\u001b[0m \u001b[1m0s\u001b[0m 2ms/step\n"
     ]
    }
   ],
   "source": [
    "predictions = model.predict(test_images)\n",
    "predicted_classes = np.argmax(predictions, axis=1)\n",
    "predicted_labels_df = pd.DataFrame({\n",
    "    'Predicted Label': predicted_classes\n",
    "})\n",
    "predicted_labels_df.to_csv('LRNN/predicted_labels.csv', index=False)"
   ]
  },
  {
   "cell_type": "code",
   "execution_count": 24,
   "metadata": {},
   "outputs": [
    {
     "data": {
      "text/plain": [
       "Predicted Label\n",
       "1    1640\n",
       "0     552\n",
       "2      85\n",
       "Name: count, dtype: int64"
      ]
     },
     "execution_count": 24,
     "metadata": {},
     "output_type": "execute_result"
    }
   ],
   "source": [
    "pred = pd.read_csv('LRNN/predicted_labels.csv')\n",
    "pred[\"Predicted Label\"].value_counts()"
   ]
  },
  {
   "cell_type": "code",
   "execution_count": 39,
   "metadata": {},
   "outputs": [
    {
     "name": "stdout",
     "output_type": "stream",
     "text": [
      "\u001b[1m72/72\u001b[0m \u001b[32m━━━━━━━━━━━━━━━━━━━━\u001b[0m\u001b[37m\u001b[0m \u001b[1m0s\u001b[0m 2ms/step\n",
      "Classification report saved as LRNN/final_classification_report.csv\n",
      "Classification Report:\n",
      "\n",
      "              precision    recall  f1-score   support\n",
      "\n",
      "   landscape       0.81      0.31      0.45       869\n",
      "    portrait       0.58      0.83      0.68      1128\n",
      "  still-life       0.30      0.35      0.32       280\n",
      "\n",
      "    accuracy                           0.57      2277\n",
      "   macro avg       0.56      0.50      0.49      2277\n",
      "weighted avg       0.63      0.57      0.55      2277\n",
      "\n"
     ]
    },
    {
     "data": {
      "image/png": "[encoded data removed]",
      "text/plain": [
       "<Figure size 1000x700 with 2 Axes>"
      ]
     },
     "metadata": {},
     "output_type": "display_data"
    },
    {
     "name": "stdout",
     "output_type": "stream",
     "text": [
      "Confusion matrix saved as LRNN/final_confusion_matrix_12122024_001436.png\n"
     ]
    }
   ],
   "source": [
    "# -- CLASSIFICATION REPORT --\n",
    "from datetime import datetime\n",
    "\n",
    "# Predict test set\n",
    "category_names = test_labels.cat.categories\n",
    "\n",
    "y_pred = model.predict(test_images)\n",
    "y_pred_classes = np.argmax(y_pred, axis=1)\n",
    "\n",
    "y_pred_categories = category_names[y_pred_classes]\n",
    "y_true_categories = category_names[test_labels_encoded]\n",
    "\n",
    "# Generate classification report as a dictionary\n",
    "report_dict = classification_report(y_true_categories, y_pred_categories, output_dict=True)\n",
    "\n",
    "# Save Classification report\n",
    "report_df = pd.DataFrame(report_dict).transpose()\n",
    "timestamp = datetime.now().strftime(\"%d%m%Y_%H%M%S\")\n",
    "report_df['Timestamp'] = timestamp\n",
    "classification_report_filename = 'LRNN/final_classification_report.csv'\n",
    "\n",
    "if os.path.exists(classification_report_filename):\n",
    "    existing_report_df = pd.read_csv(classification_report_filename, index_col=0)\n",
    "    combined_report_df = pd.concat([existing_report_df, report_df], axis=0)\n",
    "else:\n",
    "    combined_report_df = report_df\n",
    "\n",
    "combined_report_df.to_csv(classification_report_filename)\n",
    "\n",
    "print(f'Classification report saved as {classification_report_filename}')\n",
    "\n",
    "print(\"Classification Report:\\n\")\n",
    "print(classification_report(y_true_categories, y_pred_categories))\n",
    "\n",
    "# -- CONFUSION MATRIX --\n",
    "\n",
    "cm = confusion_matrix(y_true_categories, y_pred_categories)\n",
    "\n",
    "plt.figure(figsize=(10, 7))\n",
    "sns.heatmap(cm, annot=True, fmt='d', cmap='Blues', xticklabels=category_names, yticklabels=category_names)\n",
    "plt.title('Confusion Matrix')\n",
    "plt.ylabel('True Label')\n",
    "plt.xlabel('Predicted Label')\n",
    "\n",
    "confusion_matrix_filename = f'LRNN/final_confusion_matrix_{timestamp}.png'\n",
    "plt.savefig(confusion_matrix_filename)\n",
    "plt.show()\n",
    "print(f'Confusion matrix saved as {confusion_matrix_filename}')"
   ]
  },
  {
   "cell_type": "markdown",
   "metadata": {},
   "source": [
    "Decision Tree Classifier:"
   ]
  },
  {
   "cell_type": "code",
   "execution_count": 43,
   "metadata": {},
   "outputs": [],
   "source": [
    "from sklearn.tree import DecisionTreeClassifier\n",
    "from sklearn.metrics import classification_report, confusion_matrix\n",
    "\n",
    "train_images_flat = train_images.reshape((train_images.shape[0], -1))\n",
    "test_images_flat = test_images.reshape((test_images.shape[0], -1))\n",
    "\n",
    "decision_tree = DecisionTreeClassifier(random_state=42)\n",
    "decision_tree.fit(train_images_flat, train_labels_encoded)\n",
    "\n",
    "test_predictions = decision_tree.predict(test_images_flat)"
   ]
  },
  {
   "cell_type": "markdown",
   "metadata": {},
   "source": [
    "Evaluation for Decision Tree:"
   ]
  },
  {
   "cell_type": "code",
   "execution_count": 44,
   "metadata": {},
   "outputs": [
    {
     "name": "stdout",
     "output_type": "stream",
     "text": [
      "Confusion Matrix:\n",
      "[[568 174 127]\n",
      " [141 726 261]\n",
      " [ 39 112 129]]\n"
     ]
    },
    {
     "data": {
      "image/png": "[encoded data removed]",
      "text/plain": [
       "<Figure size 1000x700 with 2 Axes>"
      ]
     },
     "metadata": {},
     "output_type": "display_data"
    },
    {
     "name": "stdout",
     "output_type": "stream",
     "text": [
      "Confusion matrix saved as DTC/final_confusion_matrix_12122024_001436.png\n",
      "\n",
      "Classification Report:\n",
      "              precision    recall  f1-score   support\n",
      "\n",
      "   landscape       0.76      0.65      0.70       869\n",
      "    portrait       0.72      0.64      0.68      1128\n",
      "  still-life       0.25      0.46      0.32       280\n",
      "\n",
      "    accuracy                           0.62      2277\n",
      "   macro avg       0.58      0.59      0.57      2277\n",
      "weighted avg       0.68      0.62      0.64      2277\n",
      "\n"
     ]
    }
   ],
   "source": [
    "# Evaluation\n",
    "print(\"Confusion Matrix:\")\n",
    "print(confusion_matrix(test_labels_encoded, test_predictions))\n",
    "dt = confusion_matrix(test_labels_encoded, test_predictions)\n",
    "plt.figure(figsize=(10, 7))\n",
    "sns.heatmap(dt, annot=True, fmt='d', cmap='Blues', xticklabels=category_names, yticklabels=category_names)\n",
    "plt.title('Confusion Matrix')\n",
    "plt.ylabel('True Label')\n",
    "plt.xlabel('Predicted Label')\n",
    "\n",
    "confusion_matrix_filename = f'DTC/final_confusion_matrix_{timestamp}.png'\n",
    "plt.savefig(confusion_matrix_filename)\n",
    "plt.show()\n",
    "print(f'Confusion matrix saved as {confusion_matrix_filename}')\n",
    "\n",
    "print(\"\\nClassification Report:\")\n",
    "print(classification_report(test_labels_encoded, test_predictions, target_names=labels.cat.categories))\n"
   ]
  },
  {
   "cell_type": "markdown",
   "metadata": {},
   "source": [
    "End"
   ]
  }
 ],
 "metadata": {
  "kernelspec": {
   "display_name": "NLP",
   "language": "python",
   "name": "python3"
  },
  "language_info": {
   "codemirror_mode": {
    "name": "ipython",
    "version": 3
   },
   "file_extension": ".py",
   "mimetype": "text/x-python",
   "name": "python",
   "nbconvert_exporter": "python",
   "pygments_lexer": "ipython3",
   "version": "3.12.3"
  }
 },
 "nbformat": 4,
 "nbformat_minor": 2
}
